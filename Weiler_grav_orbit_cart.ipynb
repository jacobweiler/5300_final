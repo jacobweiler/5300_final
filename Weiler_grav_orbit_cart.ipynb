{
 "cells": [
  {
   "cell_type": "markdown",
   "id": "e2754962",
   "metadata": {},
   "source": [
    "### Gravitational Orbits in Cartesian Coordinates\n",
    "This notebook will be solving the problem of two-body gravitational attraction in cartesian coordinates. To do this I will be doing it in multiple steps and parts. \n",
    "\n",
    "1. Create a class that solves the differential equation for this two body system. \n",
    "2. Show that the problem reduces to the orbits considered in class if one of the bodies is very heavy and you \n",
    "   are in its rest frame. \n",
    "3. Try and use leapfrog algorithm and show that it uses less energy than the SciPy ODE solver\n",
    "4. Extend the simulation to 3 bodies in the same plane and comment on the orbits \n",
    "5. Create widget to animate orbits "
   ]
  },
  {
   "cell_type": "markdown",
   "id": "3d1a965d",
   "metadata": {},
   "source": [
    "### Part 1: Solve 2 Body System in Cartesian coordinates\n"
   ]
  },
  {
   "cell_type": "code",
   "execution_count": 5,
   "id": "9207fc12",
   "metadata": {},
   "outputs": [],
   "source": [
    "%matplotlib inline \n",
    "\n",
    "import numpy as np #for numpy functions\n",
    "from scipy.integrate import solve_ivp #to be able to solve ivp problems\n",
    "import matplotlib.pyplot as plt #for plotting\n",
    "from IPython.display import Image"
   ]
  },
  {
   "cell_type": "code",
   "execution_count": 82,
   "id": "e73c67e8",
   "metadata": {},
   "outputs": [],
   "source": [
    "class gravorbits(): \n",
    "    \"\"\"\n",
    "    Class uses parameters and Lagrangians for two particles orbiting under gravitational attraction\n",
    "    \n",
    "    Parameters: \n",
    "    \n",
    "    m1 = mass 1\n",
    "    m2 = mass 2 \n",
    "    G = gravitation \n",
    "    \"\"\"\n",
    "    \n",
    "    def __init__(self, m1 =1., m2 = 1. , G = 1.):\n",
    "        self.m1 = m1\n",
    "        self.m2 = m2 \n",
    "        self.G = G \n",
    "    \n",
    "    def dz_dt(self, t, z):\n",
    "        \"\"\"\n",
    "        function returns the rhs of the differential equation using give t and z, where t is time and \n",
    "        z is an 8 component vector\n",
    "        z[0] = x1(t) z[1] = x1_dot(t)\n",
    "        z[2] = y1(t) z[3] = y1_dot(t)\n",
    "        z[4] = x2(t) z[5] = x2_dot(t)\n",
    "        z[6] = y2(t) z[7] = y2_dot(t)\n",
    "        \"\"\"\n",
    "        r_12 = np.sqrt( (z[0] - z[4])**2 + (z[2] - z[6])**2)\n",
    "        \n",
    "        return [z[1], self.G * self.m2 * (z[4] - z[0]) / r_12**3, \\\n",
    "               z[3], self.G * self.m2 * (z[6] - z[2]) / r_12**3, \\\n",
    "               z[5], -self.G * self.m1 * (z[4] - z[0]) / r_12**3, \\\n",
    "               z[7], -self.G * self.m1 * (z[6] - z[2]) / r_12**3, \\\n",
    "               ]\n",
    "    \n",
    "    def solve_ode(self, t_pts, z0, abserr=1.0e-8, relerr=1.0e-8):\n",
    "        \"\"\"\n",
    "        solves ode given the initial conditions\n",
    "        \"\"\"\n",
    "        solution = solve_ivp(self.dz_dt, (t_pts[0], t_pts[-1]),\n",
    "                            z0, t_eval=t_pts, method='RK23',\n",
    "                            atol=abserr, rtol=relerr)\n",
    "        x1, x1_dot, y1, y1_dot, x2, x2_dot, y2, y2_dot = solution.y\n",
    "        \n",
    "        return x1, x1_dot, y1, y1_dot, x2, x2_dot, y2, y2_dot\n",
    "    def solve_ode_LF(self, t_pts, z0):\n",
    "        \"\"\"\n",
    "        solves ode given inital conditions using leapfrog method\n",
    "        \"\"\"\n",
    "        delta_t = t_pts[1] - t_pts[0]\n",
    "        \n",
    "        x1_0, x1_dot_0, y1_0, y1_dot_0, x2_0, x2_dot_0, y2_0, y2_dot_0 = z0\n",
    "        \n",
    "        #setting arrays with zeros\n",
    "        num_t_pts = len(t_pts)\n",
    "        \n",
    "        x1 = np.zeros(num_t_pts)\n",
    "        x1_dot = np.zeros(num_t_pts)\n",
    "        x1_dot_half = np.zeros(num_t_pts)\n",
    "        \n",
    "        y1 = np.zeros(num_t_pts)\n",
    "        y1_dot = np.zeros(num_t_pts)\n",
    "        y1_dot_half = np.zeros(num_t_pts)\n",
    "        \n",
    "        x2 = np.zeros(num_t_pts)\n",
    "        x2_dot = np.zeros(num_t_pts)\n",
    "        x2_dot_half = np.zeros(num_t_pts)\n",
    "        \n",
    "        y2 = np.zeros(num_t_pts)\n",
    "        y2_dot = np.zeros(num_t_pts)\n",
    "        y2_dot_half = np.zeros(num_t_pts)\n",
    "        \n",
    "        #IC's \n",
    "        x1[0] = x1_0\n",
    "        x1_dot[0] = x1_dot_0\n",
    "        \n",
    "        y1[0] = y1_0\n",
    "        y1_dot[0] = y1_dot_0\n",
    "        \n",
    "        x2[0] = x2_0\n",
    "        x2_dot[0] = x2_dot_0\n",
    "        \n",
    "        y2[0] = y2_0\n",
    "        y2_dot[0] = y2_dot_0\n",
    "        \n",
    "        #stepping through the diffeq\n",
    "        for i in np.arange(num_t_pts - 1):\n",
    "            t = t_pts[i]\n",
    "            \n",
    "            z = [x1[i], x1_dot[i], y1[i], y1_dot[i], x2[i], x2_dot[i], y2[i], y2_dot[i]]\n",
    "            out = self.dz_dt(t,z)\n",
    "            \n",
    "            x1_dot_half[i] = x1_dot[i] + out[1] * delta_t/2.\n",
    "            x1[i+1] = x1[i] + x1_dot_half[i] * delta_t\n",
    "            \n",
    "            y1_dot_half[i] = y1_dot[i] + out[1] * delta_t/2.\n",
    "            y1[i+1] = y1[i] + y1_dot_half[i] * delta_t\n",
    "            \n",
    "            x2_dot_half[i] = x2_dot[i] + out[1] * delta_t/2.\n",
    "            x2[i+1] = x2[i] + x2_dot_half[i] * delta_t\n",
    "            \n",
    "            y2_dot_half[i] = y2_dot[i] + out[1] * delta_t/2.\n",
    "            y2[i+1] = y2[i] + y2_dot_half[i] * delta_t\n",
    "            \n",
    "            z = [x1[i+1], x1_dot[i], y1[i+1], y1_dot[i], x2[i+1], x2_dot[i], y2[i+1], y2_dot[i]]\n",
    "            out = self.dz_dt(t,z)\n",
    "            \n",
    "            x1_dot[i+1] = x1_dot[i] + out[1] * delta_t/2.\n",
    "            y1_dot[i+1] = y1_dot[i] + out[3] * delta_t/2.\n",
    "            x2_dot[i+1] = x2_dot[i] + out[5] * delta_t/2.\n",
    "            y2_dot[i+1] = y2_dot[i] + out[7] * delta_t/2.\n",
    "            \n",
    "        return x1, x1_dot, y1, y1_dot, x2, x2_dot, y2, y2_dot\n",
    "    \n",
    "    def energy(self,t_pts, u_pts):\n",
    "        \"\"\"\n",
    "        solves for energy as a function of time\n",
    "        \"\"\"\n",
    "        \n",
    "        x1, x1_dot, y1, y1_dot, x2, x2_dot, y2, y2_dot = u_pts\n",
    "        \n",
    "        E_tot = 0.5 * self.m1 * (x1_dot**2 + y1_dot**2) + 0.5 * self.m2 * (x2_dot**2 + y2_dot**2) \\\n",
    "                - self.G * self.m1 * self.m2 / np.sqrt((x1 - x2)**2 + (y1-y2)**2)\n",
    "        return E_tot"
   ]
  },
  {
   "cell_type": "code",
   "execution_count": 83,
   "id": "7e5a413b",
   "metadata": {},
   "outputs": [],
   "source": [
    "def plot_y_vs_x(x, y, axis_labels=None, label=None, title=None, \n",
    "                color=None, linestyle=None, semilogy=False, loglog=False,\n",
    "                ax=None):\n",
    "    \"\"\"\n",
    "    Generic plotting function: return a figure axis with a plot of y vs. x,\n",
    "    with line color and style, title, axis labels, and line label\n",
    "    \"\"\"\n",
    "    if ax is None:        # if the axis object doesn't exist, make one\n",
    "        ax = plt.gca()\n",
    "\n",
    "    if (semilogy):\n",
    "        line, = ax.semilogy(x, y, label=label, \n",
    "                            color=color, linestyle=linestyle)\n",
    "    elif (loglog):\n",
    "        line, = ax.loglog(x, y, label=label, \n",
    "                          color=color, linestyle=linestyle)\n",
    "    else:\n",
    "        line, = ax.plot(x, y, label=label, \n",
    "                    color=color, linestyle=linestyle)\n",
    "\n",
    "    if label is not None:    # if a label if passed, show the legend\n",
    "        ax.legend()\n",
    "    if title is not None:    # set a title if one if passed\n",
    "        ax.set_title(title)\n",
    "    if axis_labels is not None:  # set x-axis and y-axis labels if passed  \n",
    "        ax.set_xlabel(axis_labels[0])\n",
    "        ax.set_ylabel(axis_labels[1])\n",
    "\n",
    "    return ax, line"
   ]
  },
  {
   "cell_type": "code",
   "execution_count": 84,
   "id": "9b71c6fd",
   "metadata": {},
   "outputs": [],
   "source": [
    "#defining function for start and stop indicies (given in previous problem sets)\n",
    "def start_stop_indices(t_pts, plot_start, plot_stop):\n",
    "    start_index = (np.fabs(t_pts-plot_start)).argmin()\n",
    "    stop_index = (np.fabs(t_pts-plot_stop)).argmin()\n",
    "    return start_index, stop_index"
   ]
  },
  {
   "cell_type": "code",
   "execution_count": 119,
   "id": "aa574a55",
   "metadata": {},
   "outputs": [],
   "source": [
    "#making orbit plots\n",
    "\n",
    "#label for individual axes\n",
    "orbitlabels = (r'$x$', r'$y$')\n",
    "\n",
    "#plotting time\n",
    "t_start = 0.\n",
    "t_end = 20.\n",
    "delta_t = 0.0001\n",
    "\n",
    "t_pts = np.arange(t_start, t_end+delta_t, delta_t)"
   ]
  },
  {
   "cell_type": "code",
   "execution_count": 120,
   "id": "14bf8350",
   "metadata": {},
   "outputs": [
    {
     "data": {
      "image/png": "[encoded data removed]",
      "text/plain": [
       "<Figure size 360x360 with 1 Axes>"
      ]
     },
     "metadata": {
      "needs_background": "light"
     },
     "output_type": "display_data"
    }
   ],
   "source": [
    "#Initial Values\n",
    "G = 1. \n",
    "m1 = 1 \n",
    "m2 = 12.\n",
    "\n",
    "orbit = gravorbits(m1,m2, G)\n",
    "\n",
    "#initial conditions w/ com veloc zero \n",
    "x1_0, x1_dot_0 = 1., -1.\n",
    "y1_0, y1_dot_0 = 1., 1.\n",
    "x2_0, x2_dot_0 = -(m1 / m2) * x1_0, -(m1 / m2) * x1_dot_0\n",
    "y2_0, y2_dot_0 = -(m1 / m2) * y1_0, -(m1 / m2) * y1_dot_0\n",
    "\n",
    "z0 = [x1_0, x1_dot_0,\n",
    "      y1_0, y1_dot_0,\n",
    "      x2_0, x2_dot_0, \n",
    "      y2_0, y2_dot_0]\n",
    "\n",
    "x1a, x1a_dot, y1a, y1a_dot, x2a, x2a_dot, y2a, y2a_dot = orbit.solve_ode(t_pts, z0)\n",
    "\n",
    "#plotting! \n",
    "fig = plt.figure(figsize=(5,5))\n",
    "\n",
    "#for first plot \n",
    "ax = fig.add_subplot(1,1,1)\n",
    "\n",
    "start, stop = start_stop_indices(t_pts, t_start, t_end)\n",
    "ax.plot(x1a, y1a, color='blue', label='$m1$')\n",
    "ax.plot(x2a, y2a, color='red', label='$m2$')\n",
    "ax.set_title('Simple Gravitational Orbit')\n",
    "ax.legend()\n",
    "ax.set_aspect(1)\n",
    "\n",
    "fig.tight_layout()\n",
    "fig.savefig('simpleorbit.png', bbox_inches='tight')"
   ]
  },
  {
   "cell_type": "markdown",
   "id": "2e8fb52a",
   "metadata": {},
   "source": [
    "### Part 2: Show that this reduces to orbits shown in class if one is heavy and you are in its rest frame"
   ]
  },
  {
   "cell_type": "code",
   "execution_count": 121,
   "id": "9ee69967",
   "metadata": {},
   "outputs": [
    {
     "data": {
      "image/png": "[encoded data removed]",
      "text/plain": [
       "<Figure size 360x360 with 1 Axes>"
      ]
     },
     "metadata": {
      "needs_background": "light"
     },
     "output_type": "display_data"
    }
   ],
   "source": [
    "#Initial Values\n",
    "G = 1. \n",
    "m1 = .01 \n",
    "m2 = 12.\n",
    "\n",
    "orbit = gravorbits(m1,m2, G)\n",
    "\n",
    "#initial conditions w/ com veloc zero \n",
    "x1_0, x1_dot_0 = 1., -1.\n",
    "y1_0, y1_dot_0 = 1., 1.\n",
    "x2_0, x2_dot_0 = -(m1 / m2) * x1_0, -(m1 / m2) * x1_dot_0\n",
    "y2_0, y2_dot_0 = -(m1 / m2) * y1_0, -(m1 / m2) * y1_dot_0\n",
    "\n",
    "z0 = [x1_0, x1_dot_0,\n",
    "      y1_0, y1_dot_0,\n",
    "      x2_0, x2_dot_0, \n",
    "      y2_0, y2_dot_0]\n",
    "\n",
    "x1, x1_dot, y1, y1_dot, x2, x2_dot, y2, y2_dot = orbit.solve_ode(t_pts, z0)\n",
    "\n",
    "#plotting! \n",
    "fig = plt.figure(figsize=(5,5))\n",
    "\n",
    "#for first plot \n",
    "ax = fig.add_subplot(1,1,1)\n",
    "\n",
    "start, stop = start_stop_indices(t_pts, t_start, t_end)\n",
    "ax.plot(x1, y1, color='blue', label='$m1$')\n",
    "ax.plot(x2, y2, color='red', label='$m2$')\n",
    "ax.set_title('Simple Gravitational Orbit')\n",
    "ax.legend()\n",
    "ax.set_aspect(1)\n",
    "\n",
    "fig.tight_layout()\n",
    "fig.savefig('simpleorbit1.png', bbox_inches='tight')"
   ]
  },
  {
   "cell_type": "markdown",
   "id": "5f7ebc60",
   "metadata": {},
   "source": [
    "### Part 3: Use leapfrog algorithm and show that it uses less energy"
   ]
  },
  {
   "cell_type": "code",
   "execution_count": 122,
   "id": "256b53c7",
   "metadata": {},
   "outputs": [
    {
     "data": {
      "image/png": "[encoded data removed]",
      "text/plain": [
       "<Figure size 360x360 with 1 Axes>"
      ]
     },
     "metadata": {
      "needs_background": "light"
     },
     "output_type": "display_data"
    }
   ],
   "source": [
    "#Initial Values\n",
    "G = 1. \n",
    "m1 = 1. \n",
    "m2 = 12.\n",
    "\n",
    "orbit = gravorbits(m1,m2, G)\n",
    "\n",
    "#initial conditions w/ com veloc zero \n",
    "x1_0, x1_dot_0 = 1., -1.\n",
    "y1_0, y1_dot_0 = 1., 1.\n",
    "x2_0, x2_dot_0 = -(m1 / m2) * x1_0, -(m1 / m2) * x1_dot_0\n",
    "y2_0, y2_dot_0 = -(m1 / m2) * y1_0, -(m1 / m2) * y1_dot_0\n",
    "\n",
    "z0 = [x1_0, x1_dot_0,\n",
    "      y1_0, y1_dot_0,\n",
    "      x2_0, x2_dot_0, \n",
    "      y2_0, y2_dot_0]\n",
    "\n",
    "x1_LF, x1_dot_LF, y1_LF, y1_dot_LF, x2_LF, x2_dot_LF, y2_LF, y2_dot_LF = orbit.solve_ode_LF(t_pts, z0)\n",
    "\n",
    "#plotting! \n",
    "fig = plt.figure(figsize=(5,5))\n",
    "\n",
    "#for first plot \n",
    "ax = fig.add_subplot(1,1,1)\n",
    "\n",
    "start, stop = start_stop_indices(t_pts, t_start, t_end)\n",
    "ax.plot(x1_LF, y1_LF, color='blue', label='$m1$')\n",
    "ax.plot(x2_LF, y2_LF, color='red', label='$m2$')\n",
    "ax.set_title('Simple Gravitational Orbit')\n",
    "ax.legend()\n",
    "ax.set_aspect(1)\n",
    "\n",
    "fig.tight_layout()\n",
    "fig.savefig('simpleorbit1.png', bbox_inches='tight')"
   ]
  },
  {
   "cell_type": "code",
   "execution_count": 123,
   "id": "07438621",
   "metadata": {},
   "outputs": [],
   "source": [
    "u_pts = x1a, x1a_dot, y1a, y1a_dot, x2a, x2a_dot, y2a, y2a_dot\n",
    "u_pts_LF = x1_LF, x1_dot_LF, y1_LF, y1_dot_LF, x2_LF, x2_dot_LF, y2_LF, y2_dot_LF\n",
    "\n",
    "#For RK23\n",
    "E_tot_pts = orbit.energy(t_pts, u_pts )\n",
    "E_tot_0 = E_tot_pts[0]\n",
    "E_tot_rel_pts = np.abs((E_tot_pts - E_tot_0)/E_tot_0)\n",
    "\n",
    "#for LF\n",
    "E_tot_pts_LF = orbit.energy(t_pts, u_pts_LF)\n",
    "E_tot_0_LF = E_tot_pts_LF[0]\n",
    "E_tot_rel_pts_LF = np.abs((E_tot_pts_LF - E_tot_0_LF)/E_tot_0_LF)"
   ]
  },
  {
   "cell_type": "code",
   "execution_count": 124,
   "id": "4e1e7e6b",
   "metadata": {},
   "outputs": [
    {
     "data": {
      "image/png": "[encoded data removed]",
      "text/plain": [
       "<Figure size 432x432 with 1 Axes>"
      ]
     },
     "metadata": {
      "needs_background": "light"
     },
     "output_type": "display_data"
    }
   ],
   "source": [
    "fig_5 = plt.figure(figsize=(6,6))\n",
    "\n",
    "overall_title = 'Orbit Energy Difference'  # \\n means a new line (adds some space here)\n",
    "fig_5.suptitle(overall_title, va='baseline')\n",
    "\n",
    "ax_5a = fig_5.add_subplot(1,1,1)\n",
    "#ax_5a.semilogy(t_pts, np.abs(E_tot_pts), color='black', label=r'$E(t)$')\n",
    "ax_5a.semilogy(t_pts, E_tot_rel_pts, \n",
    "               color='green', label=r'$\\Delta E(t)$ RK23')\n",
    "ax_5a.semilogy(t_pts, E_tot_rel_pts_LF, \n",
    "               color='red', label=r'$\\Delta E(t)$ Leapfrog')\n",
    "ax_5a.set_ylim(1.e-10, 3.)    # (1.e-12, 5)\n",
    "ax_5a.set_xlabel(r'$t$')\n",
    "ax_5a.set_ylabel(r'Energy')\n",
    "ax_5a.set_title('Change in energy with time')\n",
    "ax_5a.legend()\n",
    "\n",
    "fig_5.tight_layout()\n",
    "fig_5.savefig('Leapfrog_energy_1.png', dpi=200, bbox_inches='tight')"
   ]
  },
  {
   "cell_type": "markdown",
   "id": "4b998f83",
   "metadata": {},
   "source": [
    "### Part 4: Extend to 3 bodies in same plane"
   ]
  },
  {
   "cell_type": "code",
   "execution_count": null,
   "id": "16e12fa1",
   "metadata": {},
   "outputs": [],
   "source": []
  },
  {
   "cell_type": "markdown",
   "id": "1c74baaa",
   "metadata": {},
   "source": [
    "### Part 5: Create Widget to animate"
   ]
  },
  {
   "cell_type": "code",
   "execution_count": null,
   "id": "b867ffb9",
   "metadata": {},
   "outputs": [],
   "source": []
  }
 ],
 "metadata": {
  "kernelspec": {
   "display_name": "Python 3 (ipykernel)",
   "language": "python",
   "name": "python3"
  },
  "language_info": {
   "codemirror_mode": {
    "name": "ipython",
    "version": 3
   },
   "file_extension": ".py",
   "mimetype": "text/x-python",
   "name": "python",
   "nbconvert_exporter": "python",
   "pygments_lexer": "ipython3",
   "version": "3.9.7"
  }
 },
 "nbformat": 4,
 "nbformat_minor": 5
}
